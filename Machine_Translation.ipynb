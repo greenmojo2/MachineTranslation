{
  "cells": [
    {
      "cell_type": "markdown",
      "metadata": {
        "id": "view-in-github",
        "colab_type": "text"
      },
      "source": [
        "<a href=\"https://colab.research.google.com/github/greenmojo2/MachineTranslation/blob/main/Machine_Translation.ipynb\" target=\"_parent\"><img src=\"https://colab.research.google.com/assets/colab-badge.svg\" alt=\"Open In Colab\"/></a>"
      ]
    },
    {
      "cell_type": "markdown",
      "metadata": {
        "id": "vAC2lRXfMFaM"
      },
      "source": [
        "# Exercise 2 Machine Translation in Python Code\n",
        "\n",
        "\n",
        "\n"
      ]
    },
    {
      "cell_type": "markdown",
      "metadata": {
        "id": "XQ6jkRl1MLiN"
      },
      "source": [
        "***READ THIS FIRST: DO NOT CHANGE THE CODE HERE or BUILD YOUR CODE HERE. INSTEAD, GO TO FILE AND SAVE A COPY IN DRIVE. This action will recreate this code in your own file.***"
      ]
    },
    {
      "cell_type": "markdown",
      "metadata": {
        "id": "R75v8VeaMW5E"
      },
      "source": [
        "\n",
        "\n",
        "---\n",
        "\n",
        "\n",
        "\n",
        "---\n",
        "\n"
      ]
    },
    {
      "cell_type": "markdown",
      "metadata": {
        "id": "uMhLY_hxMY4L"
      },
      "source": [
        "Be sure to read pages 304-309 in the Gunkel textbook. You will not be following those instrutions but I want you to read them.\n",
        "\n",
        "Here is a [link](https://youtu.be/ouILFrUh2WQ) for a video on how to use Google Collab for the ELIZA assignment. You can follow along with that video and apply it to this assignment.\n",
        "\n",
        "Please run each snippet of code below to see how it works. You will then create your version of it based on the questions below."
      ]
    },
    {
      "cell_type": "code",
      "execution_count": null,
      "metadata": {
        "colab": {
          "base_uri": "https://localhost:8080/"
        },
        "id": "VmfUQno9SGX8",
        "outputId": "827dc6bc-7fd9-4566-e054-03b753512432"
      },
      "outputs": [
        {
          "name": "stdout",
          "output_type": "stream",
          "text": [
            "Looking in indexes: https://pypi.org/simple, https://us-python.pkg.dev/colab-wheels/public/simple/\n",
            "Collecting translate\n",
            "  Downloading translate-3.6.1-py2.py3-none-any.whl (12 kB)\n",
            "Requirement already satisfied: requests in /usr/local/lib/python3.9/dist-packages (from translate) (2.27.1)\n",
            "Requirement already satisfied: lxml in /usr/local/lib/python3.9/dist-packages (from translate) (4.9.2)\n",
            "Requirement already satisfied: click in /usr/local/lib/python3.9/dist-packages (from translate) (8.1.3)\n",
            "Collecting libretranslatepy==2.1.1\n",
            "  Downloading libretranslatepy-2.1.1-py3-none-any.whl (3.2 kB)\n",
            "Requirement already satisfied: urllib3<1.27,>=1.21.1 in /usr/local/lib/python3.9/dist-packages (from requests->translate) (1.26.15)\n",
            "Requirement already satisfied: charset-normalizer~=2.0.0 in /usr/local/lib/python3.9/dist-packages (from requests->translate) (2.0.12)\n",
            "Requirement already satisfied: certifi>=2017.4.17 in /usr/local/lib/python3.9/dist-packages (from requests->translate) (2022.12.7)\n",
            "Requirement already satisfied: idna<4,>=2.5 in /usr/local/lib/python3.9/dist-packages (from requests->translate) (3.4)\n",
            "Installing collected packages: libretranslatepy, translate\n",
            "Successfully installed libretranslatepy-2.1.1 translate-3.6.1\n"
          ]
        }
      ],
      "source": [
        "pip install translate"
      ]
    },
    {
      "cell_type": "code",
      "execution_count": null,
      "metadata": {
        "colab": {
          "background_save": true,
          "base_uri": "https://localhost:8080/"
        },
        "id": "BN9O_eEL6e8o",
        "outputId": "195411ef-9e24-4362-f2bb-8aabfe0314b1"
      },
      "outputs": [
        {
          "name": "stdout",
          "output_type": "stream",
          "text": [
            "Traurig\n"
          ]
        }
      ],
      "source": [
        "from translate import Translator\n",
        "translator= Translator(from_lang=\"English\", to_lang=\"German\")\n",
        "again_translate = \"YES\"\n",
        "while again_translate == \"YES\":\n",
        "  word_choice = input (\"What word would you like to translate from English to German? \")\n",
        "  translation = translator.translate(word_choice)\n",
        "  print (translation)\n",
        "  again_translate = input (\"Would you lke to translate another word from English to German? Please type YES or NO. \")\n",
        "else:\n",
        "  print (\"Goodbye.\")\n"
      ]
    },
    {
      "cell_type": "markdown",
      "metadata": {
        "id": "HRzd2MoQ7oIh"
      },
      "source": [
        "I wrote this above code using Python's built-in libaries for language translation. In just ten lines of code, we can translate English to German."
      ]
    },
    {
      "cell_type": "markdown",
      "metadata": {
        "id": "Nq_C0cb076Nt"
      },
      "source": [
        "# Your Turn: Making your German to English translator."
      ]
    },
    {
      "cell_type": "markdown",
      "metadata": {
        "id": "55sI2p148ie2"
      },
      "source": [
        "For this assignment, please do the following:\n",
        "\n",
        "---\n",
        "\n",
        "1.   Copy the code to your own drive.\n",
        "2.   Make a German to English translator using this code as your guide.\n",
        "3.   The German to English translator needs to ask for the user's name and use the name when it gives the translated word back to the user. Something like, \"Thank you Chad. You asked me to translate \"german word\" to the enlish version of \"english word.\" You have all the code you need to put this together. Be sure to look back at your Eliza code for some of this.  \n",
        "4.   Take a screenshot picture of your German to English translator going through these steps. Take a screenshot of your code and a screenshot of it working. Upload both of these picutures to E-Learning.\n"
      ]
    }
  ],
  "metadata": {
    "colab": {
      "provenance": [],
      "include_colab_link": true
    },
    "kernelspec": {
      "display_name": "Python 3",
      "name": "python3"
    }
  },
  "nbformat": 4,
  "nbformat_minor": 0
}